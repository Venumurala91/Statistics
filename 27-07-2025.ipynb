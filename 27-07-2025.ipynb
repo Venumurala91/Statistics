{
 "cells": [
  {
   "cell_type": "code",
   "execution_count": 4,
   "id": "43549577",
   "metadata": {},
   "outputs": [],
   "source": [
    "import itertools\n",
    "# Used to create combinations"
   ]
  },
  {
   "cell_type": "markdown",
   "id": "2e09d6a9",
   "metadata": {},
   "source": [
    "# Tossing 3 Coins\n",
    "# Event : Atleast 2 Heads"
   ]
  },
  {
   "cell_type": "code",
   "execution_count": 5,
   "id": "f86c7f11",
   "metadata": {},
   "outputs": [],
   "source": [
    "coin_outcomes = ['H', 'T']"
   ]
  },
  {
   "cell_type": "code",
   "execution_count": null,
   "id": "8e053c3c",
   "metadata": {},
   "outputs": [
    {
     "name": "stdout",
     "output_type": "stream",
     "text": [
      "[('H', 'H', 'H'), ('H', 'H', 'T'), ('H', 'T', 'H'), ('H', 'T', 'T'), ('T', 'H', 'H'), ('T', 'H', 'T'), ('T', 'T', 'H'), ('T', 'T', 'T')]\n",
      "8\n"
     ]
    }
   ],
   "source": [
    "# Total outcomes\n",
    "print(list(itertools.product(coin_outcomes, repeat=3)))\n",
    "print(len(list(itertools.product(coin_outcomes, repeat=3))))\n",
    "\n",
    "# 'H', 'T'\n",
    "# 'T', 'H'\n",
    "# Order matters on the above case"
   ]
  },
  {
   "cell_type": "code",
   "execution_count": 11,
   "id": "2619d52f",
   "metadata": {},
   "outputs": [
    {
     "data": {
      "text/plain": [
       "0"
      ]
     },
     "execution_count": 11,
     "metadata": {},
     "output_type": "execute_result"
    }
   ],
   "source": [
    "('H', 'H', 'H').count('T')"
   ]
  },
  {
   "cell_type": "code",
   "execution_count": 12,
   "id": "6be03946",
   "metadata": {},
   "outputs": [
    {
     "data": {
      "text/plain": [
       "3"
      ]
     },
     "execution_count": 12,
     "metadata": {},
     "output_type": "execute_result"
    }
   ],
   "source": [
    "('H', 'H', 'H').count('H')"
   ]
  },
  {
   "cell_type": "code",
   "execution_count": null,
   "id": "6759d026",
   "metadata": {},
   "outputs": [
    {
     "name": "stdout",
     "output_type": "stream",
     "text": [
      "[('H', 'H', 'H'), ('H', 'H', 'T'), ('H', 'T', 'H'), ('T', 'H', 'H')]\n"
     ]
    }
   ],
   "source": [
    "favorable_outcomes = []\n",
    "all_outcomes = list(itertools.product(coin_outcomes, repeat=3))\n",
    "for outcome in all_outcomes:\n",
    "    if outcome.count('H') >=2:\n",
    "        favorable_outcomes.append(outcome)\n",
    "\n",
    "print(favorable_outcomes)"
   ]
  },
  {
   "cell_type": "code",
   "execution_count": 16,
   "id": "f5527633",
   "metadata": {},
   "outputs": [
    {
     "data": {
      "text/plain": [
       "0.5"
      ]
     },
     "execution_count": 16,
     "metadata": {},
     "output_type": "execute_result"
    }
   ],
   "source": [
    "len(favorable_outcomes) / len(all_outcomes)"
   ]
  },
  {
   "cell_type": "markdown",
   "id": "7adc6a80",
   "metadata": {},
   "source": [
    "# Drawing 2 cards (without replacement)\n",
    "\n",
    "# Event : Both Ace"
   ]
  },
  {
   "cell_type": "code",
   "execution_count": 18,
   "id": "71546512",
   "metadata": {},
   "outputs": [
    {
     "name": "stdout",
     "output_type": "stream",
     "text": [
      "0.004524886877828055\n"
     ]
    }
   ],
   "source": [
    "num_aces = 4\n",
    "total_cards = 52\n",
    "\n",
    "prob_first_ace = num_aces / total_cards\n",
    "\n",
    "num_aces_after_first = num_aces - 1\n",
    "total_cards_after_first = total_cards - 1\n",
    "\n",
    "prob_second_ace = num_aces_after_first / total_cards_after_first\n",
    "\n",
    "overall_prob = prob_first_ace * prob_second_ace\n",
    "\n",
    "print(overall_prob)"
   ]
  },
  {
   "cell_type": "code",
   "execution_count": 19,
   "id": "47a39b15",
   "metadata": {},
   "outputs": [],
   "source": [
    "from fractions import Fraction"
   ]
  },
  {
   "cell_type": "code",
   "execution_count": 29,
   "id": "e3d47eb3",
   "metadata": {},
   "outputs": [
    {
     "name": "stdout",
     "output_type": "stream",
     "text": [
      "1/221\n"
     ]
    }
   ],
   "source": [
    "fraction_prob = Fraction(overall_prob).limit_denominator(1000)\n",
    "print(fraction_prob)"
   ]
  },
  {
   "cell_type": "markdown",
   "id": "3bbdc183",
   "metadata": {},
   "source": [
    "# Simulate Prob\n",
    "\n",
    "Drawing 2 cards (without replacement)\n",
    "\n",
    "Event : Both Ace -->"
   ]
  },
  {
   "cell_type": "code",
   "execution_count": 31,
   "id": "5b28393d",
   "metadata": {},
   "outputs": [],
   "source": [
    "import random"
   ]
  },
  {
   "cell_type": "code",
   "execution_count": null,
   "id": "74860201",
   "metadata": {},
   "outputs": [],
   "source": [
    "def simulate_2_card_with_replacemnt(num_of_simulation):\n",
    "    successful_draw = 0\n",
    "\n",
    "    for _ in range(num_of_simulation):\n",
    "        deck = ['Ace'] * 4 + ['Other'] * 48\n",
    "        first_card_index = random.randrange(len(deck)) # 0 to 51\n",
    "        first_card = deck.pop(first_card_index)\n",
    "        #a = [ 1,2,3,4]\n",
    "        # a.pop(0) --> 1\n",
    "        # a = [2,3,4]\n",
    "        if first_card == 'Ace':\n",
    "            second_card_index = random.randrange(len(deck)) # 0 to 51\n",
    "            second_card = deck.pop(second_card_index)\n",
    "\n",
    "            if second_card == 'Ace':\n",
    "                successful_draw+=1\n",
    "\n",
    "    return successful_draw / num_of_simulation\n"
   ]
  },
  {
   "cell_type": "code",
   "execution_count": 42,
   "id": "eae06765",
   "metadata": {},
   "outputs": [
    {
     "name": "stdout",
     "output_type": "stream",
     "text": [
      "0.00452186\n"
     ]
    }
   ],
   "source": [
    "print(simulate_2_card_with_replacemnt(100000000))"
   ]
  },
  {
   "cell_type": "code",
   "execution_count": 49,
   "id": "5d7bbaec",
   "metadata": {},
   "outputs": [
    {
     "name": "stdout",
     "output_type": "stream",
     "text": [
      "1/6\n"
     ]
    }
   ],
   "source": [
    "# P.S : probability of sum = 7 with two dice\n",
    "\n",
    "dice = [1,2,3,4,5,6]\n",
    "\n",
    "sample_space = list(itertools.product(dice, repeat=2))\n",
    "\n",
    "favourable = [outcome for outcome in sample_space if sum(outcome)==7]\n",
    "\n",
    "print(Fraction(len(favourable) / len(sample_space)).limit_denominator(10))"
   ]
  },
  {
   "cell_type": "markdown",
   "id": "aed4238c",
   "metadata": {},
   "source": []
  }
 ],
 "metadata": {
  "kernelspec": {
   "display_name": "base",
   "language": "python",
   "name": "python3"
  },
  "language_info": {
   "codemirror_mode": {
    "name": "ipython",
    "version": 3
   },
   "file_extension": ".py",
   "mimetype": "text/x-python",
   "name": "python",
   "nbconvert_exporter": "python",
   "pygments_lexer": "ipython3",
   "version": "3.12.3"
  }
 },
 "nbformat": 4,
 "nbformat_minor": 5
}
