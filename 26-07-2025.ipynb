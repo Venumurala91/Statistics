{
 "cells": [
  {
   "cell_type": "code",
   "execution_count": 1,
   "id": "0ab2f6cf",
   "metadata": {},
   "outputs": [],
   "source": [
    "import numpy as np\n",
    "from scipy import stats"
   ]
  },
  {
   "cell_type": "code",
   "execution_count": 2,
   "id": "33843413",
   "metadata": {},
   "outputs": [],
   "source": [
    "data = [1,2,3,4,5,6,7,8,9,10]"
   ]
  },
  {
   "cell_type": "code",
   "execution_count": 3,
   "id": "dd74ae23",
   "metadata": {},
   "outputs": [],
   "source": [
    "q1 = np.percentile(data, 25)\n",
    "q3 = np.percentile(data, 75)"
   ]
  },
  {
   "cell_type": "code",
   "execution_count": 4,
   "id": "3c9734ce",
   "metadata": {},
   "outputs": [
    {
     "name": "stdout",
     "output_type": "stream",
     "text": [
      "3.25 7.75\n"
     ]
    }
   ],
   "source": [
    "print(q1, q3)"
   ]
  },
  {
   "cell_type": "code",
   "execution_count": 5,
   "id": "810ba42c",
   "metadata": {},
   "outputs": [
    {
     "name": "stdout",
     "output_type": "stream",
     "text": [
      "4.5\n"
     ]
    }
   ],
   "source": [
    "IQR = q3-q1\n",
    "print(IQR)"
   ]
  },
  {
   "cell_type": "code",
   "execution_count": 6,
   "id": "bb87905d",
   "metadata": {},
   "outputs": [],
   "source": [
    "# DEEPER"
   ]
  },
  {
   "cell_type": "code",
   "execution_count": 7,
   "id": "91128050",
   "metadata": {},
   "outputs": [],
   "source": [
    "data = np.array([1, 2, 3, 4, 5, 6, 7, 8, 9, 10])"
   ]
  },
  {
   "cell_type": "code",
   "execution_count": 8,
   "id": "355b9a09",
   "metadata": {},
   "outputs": [
    {
     "name": "stdout",
     "output_type": "stream",
     "text": [
      "Linear Interpolation: Q1 = 3.25, Q3 = 7.75\n"
     ]
    }
   ],
   "source": [
    "q1_linear = np.percentile(data, 25, method='linear')\n",
    "q3_linear = np.percentile(data, 75, method='linear')\n",
    "print(f\"Linear Interpolation: Q1 = {q1_linear}, Q3 = {q3_linear}\")"
   ]
  },
  {
   "cell_type": "code",
   "execution_count": 9,
   "id": "70a67068",
   "metadata": {},
   "outputs": [
    {
     "name": "stdout",
     "output_type": "stream",
     "text": [
      "Linear Interpolation: Q1 = 3, Q3 = 7\n"
     ]
    }
   ],
   "source": [
    "q1_linear = np.percentile(data, 25, method='lower')\n",
    "q3_linear = np.percentile(data, 75, method='lower')\n",
    "print(f\"Linear Interpolation: Q1 = {q1_linear}, Q3 = {q3_linear}\")"
   ]
  },
  {
   "cell_type": "code",
   "execution_count": 11,
   "id": "ee4fa399",
   "metadata": {},
   "outputs": [
    {
     "name": "stdout",
     "output_type": "stream",
     "text": [
      "Linear Interpolation: Q1 = 3, Q3 = 8\n"
     ]
    }
   ],
   "source": [
    "q1_linear = np.percentile(data, 25, method='lower')\n",
    "q3_linear = np.percentile(data, 75, method='higher')\n",
    "print(f\"Linear Interpolation: Q1 = {q1_linear}, Q3 = {q3_linear}\")"
   ]
  },
  {
   "cell_type": "code",
   "execution_count": 12,
   "id": "e4c891ea",
   "metadata": {},
   "outputs": [
    {
     "name": "stdout",
     "output_type": "stream",
     "text": [
      "Linear Interpolation: Q1 = 3.5, Q3 = 7.5\n"
     ]
    }
   ],
   "source": [
    "q1_linear = np.percentile(data, 25, method='midpoint')\n",
    "q3_linear = np.percentile(data, 75, method='midpoint')\n",
    "print(f\"Linear Interpolation: Q1 = {q1_linear}, Q3 = {q3_linear}\")"
   ]
  },
  {
   "cell_type": "code",
   "execution_count": 13,
   "id": "74bff274",
   "metadata": {},
   "outputs": [
    {
     "name": "stdout",
     "output_type": "stream",
     "text": [
      "<class 'set'>\n"
     ]
    }
   ],
   "source": [
    "A = {1,2,3,4}\n",
    "B = {3,4,5,6}\n",
    "print(type(A))"
   ]
  },
  {
   "cell_type": "code",
   "execution_count": 14,
   "id": "54f7b466",
   "metadata": {},
   "outputs": [
    {
     "data": {
      "text/plain": [
       "{1, 2, 3, 4, 5, 6}"
      ]
     },
     "execution_count": 14,
     "metadata": {},
     "output_type": "execute_result"
    }
   ],
   "source": [
    "A.union(B)"
   ]
  },
  {
   "cell_type": "code",
   "execution_count": 15,
   "id": "dee0c6ee",
   "metadata": {},
   "outputs": [
    {
     "data": {
      "text/plain": [
       "{3, 4}"
      ]
     },
     "execution_count": 15,
     "metadata": {},
     "output_type": "execute_result"
    }
   ],
   "source": [
    "A.intersection(B)"
   ]
  },
  {
   "cell_type": "code",
   "execution_count": 16,
   "id": "d52892a0",
   "metadata": {},
   "outputs": [
    {
     "data": {
      "text/plain": [
       "{1, 2}"
      ]
     },
     "execution_count": 16,
     "metadata": {},
     "output_type": "execute_result"
    }
   ],
   "source": [
    "A.difference(B)"
   ]
  },
  {
   "cell_type": "code",
   "execution_count": 17,
   "id": "56f74229",
   "metadata": {},
   "outputs": [
    {
     "data": {
      "text/plain": [
       "{5, 6}"
      ]
     },
     "execution_count": 17,
     "metadata": {},
     "output_type": "execute_result"
    }
   ],
   "source": [
    "B.difference(A)"
   ]
  },
  {
   "cell_type": "markdown",
   "id": "eebd46c0",
   "metadata": {},
   "source": [
    "# IQR "
   ]
  },
  {
   "cell_type": "code",
   "execution_count": 18,
   "id": "1c331d2a",
   "metadata": {},
   "outputs": [],
   "source": [
    "import matplotlib.pyplot as plt"
   ]
  },
  {
   "cell_type": "code",
   "execution_count": 21,
   "id": "de1000df",
   "metadata": {},
   "outputs": [],
   "source": [
    "data = list(range(1,11))"
   ]
  },
  {
   "cell_type": "code",
   "execution_count": 27,
   "id": "32c119d1",
   "metadata": {},
   "outputs": [],
   "source": [
    "data.append(90)"
   ]
  },
  {
   "cell_type": "code",
   "execution_count": 28,
   "id": "38b8a384",
   "metadata": {},
   "outputs": [
    {
     "data": {
      "text/plain": [
       "[1, 2, 3, 4, 5, 6, 7, 8, 9, 10, 102, 90]"
      ]
     },
     "execution_count": 28,
     "metadata": {},
     "output_type": "execute_result"
    }
   ],
   "source": [
    "data"
   ]
  },
  {
   "cell_type": "code",
   "execution_count": 29,
   "id": "db4e2dc3",
   "metadata": {},
   "outputs": [
    {
     "data": {
      "text/plain": [
       "{'whiskers': [<matplotlib.lines.Line2D at 0x249b2aaecf0>,\n",
       "  <matplotlib.lines.Line2D at 0x249b2aaede0>],\n",
       " 'caps': [<matplotlib.lines.Line2D at 0x249b2aaf080>,\n",
       "  <matplotlib.lines.Line2D at 0x249b2aaf3b0>],\n",
       " 'boxes': [<matplotlib.lines.Line2D at 0x249b2aaea80>],\n",
       " 'medians': [<matplotlib.lines.Line2D at 0x249b2aaf680>],\n",
       " 'fliers': [<matplotlib.lines.Line2D at 0x249b2aaf9b0>],\n",
       " 'means': []}"
      ]
     },
     "execution_count": 29,
     "metadata": {},
     "output_type": "execute_result"
    },
    {
     "data": {
      "image/png": "[encoded data removed]",
      "text/plain": [
       "<Figure size 640x480 with 1 Axes>"
      ]
     },
     "metadata": {},
     "output_type": "display_data"
    }
   ],
   "source": [
    "plt.boxplot(data) # Q1, Q2, Q3"
   ]
  },
  {
   "cell_type": "code",
   "execution_count": null,
   "id": "65e85623",
   "metadata": {},
   "outputs": [],
   "source": []
  }
 ],
 "metadata": {
  "kernelspec": {
   "display_name": "base",
   "language": "python",
   "name": "python3"
  },
  "language_info": {
   "codemirror_mode": {
    "name": "ipython",
    "version": 3
   },
   "file_extension": ".py",
   "mimetype": "text/x-python",
   "name": "python",
   "nbconvert_exporter": "python",
   "pygments_lexer": "ipython3",
   "version": "3.12.3"
  }
 },
 "nbformat": 4,
 "nbformat_minor": 5
}
